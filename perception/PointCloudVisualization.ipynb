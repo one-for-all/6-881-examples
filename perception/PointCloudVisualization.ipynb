{
 "cells": [
  {
   "cell_type": "code",
   "execution_count": null,
   "metadata": {},
   "outputs": [],
   "source": [
    "%reload_ext autoreload\n",
    "%autoreload 2\n",
    "\n",
    "import numpy as np\n",
    "import meshcat\n",
    "\n",
    "from run_perception_system import GetBrickPose\n",
    "from perception_tools.visualization_utils import *"
   ]
  },
  {
   "cell_type": "code",
   "execution_count": null,
   "metadata": {},
   "outputs": [],
   "source": [
    "vis = meshcat.Visualizer()"
   ]
  },
  {
   "cell_type": "code",
   "execution_count": null,
   "metadata": {},
   "outputs": [],
   "source": [
    "model_brick = np.load(\"models/foam_brick_model.npy\")"
   ]
  },
  {
   "cell_type": "code",
   "execution_count": null,
   "metadata": {},
   "outputs": [],
   "source": [
    "# Calculate the pose of the brick in the simulation\n",
    "X_WBrick = GetBrickPose(\"config/sim.yml\", viz=True)\n",
    "print X_WBrick"
   ]
  },
  {
   "cell_type": "code",
   "execution_count": null,
   "metadata": {},
   "outputs": [],
   "source": [
    "# load and visualize the total aligned scene points\n",
    "scene_points = np.load(\"saved_point_clouds/aligned_scene_points.npy\")\n",
    "scene_colors = np.load(\"saved_point_clouds/aligned_scene_colors.npy\")\n",
    "PlotMeshcatPointCloud(vis, \"scene\", scene_points, scene_colors)"
   ]
  },
  {
   "cell_type": "code",
   "execution_count": null,
   "metadata": {},
   "outputs": [],
   "source": [
    "# load and visualize the segmented brick points and the guess of the\n",
    "# pose of the brick\n",
    "brick_points = np.load(\"saved_point_clouds/segmented_scene_points.npy\")\n",
    "brick_colors = np.load(\"saved_point_clouds/segmented_scene_colors.npy\")\n",
    "\n",
    "PlotMeshcatPointCloud(vis, \"brick\", brick_points, brick_colors)\n",
    "VisualizeTransform(vis, model, X.matrix())"
   ]
  },
  {
   "cell_type": "code",
   "execution_count": null,
   "metadata": {},
   "outputs": [],
   "source": [
    "# load and visualize the raw point clouds from each camera\n",
    "left_points = np.load(\"saved_point_clouds/left_points.npy\")\n",
    "left_colors = np.load(\"saved_point_clouds/left_colors.npy\")\n",
    "PlotMeshcatPointCloud(vis, \"left_points\", left_points, left_colors)\n",
    "\n",
    "middle_points = np.load(\"saved_point_clouds/middle_points.npy\")\n",
    "middle_colors = np.load(\"saved_point_clouds/middle_colors.npy\")\n",
    "PlotMeshcatPointCloud(vis, \"middle_points\", middle_points, middle_colors)\n",
    "\n",
    "right_points = np.load(\"saved_point_clouds/right_points.npy\")\n",
    "right_colors = np.load(\"saved_point_clouds/right_colors.npy\")\n",
    "PlotMeshcatPointCloud(vis, \"right_points\", right_points, right_colors)"
   ]
  },
  {
   "cell_type": "code",
   "execution_count": null,
   "metadata": {},
   "outputs": [],
   "source": [
    "# clear everything\n",
    "vis.delete()"
   ]
  },
  {
   "cell_type": "code",
   "execution_count": null,
   "metadata": {},
   "outputs": [],
   "source": []
  }
 ],
 "metadata": {
  "kernelspec": {
   "display_name": "Python 2",
   "language": "python",
   "name": "python2"
  },
  "language_info": {
   "codemirror_mode": {
    "name": "ipython",
    "version": 2
   },
   "file_extension": ".py",
   "mimetype": "text/x-python",
   "name": "python",
   "nbconvert_exporter": "python",
   "pygments_lexer": "ipython2",
   "version": "2.7.12"
  }
 },
 "nbformat": 4,
 "nbformat_minor": 2
}
